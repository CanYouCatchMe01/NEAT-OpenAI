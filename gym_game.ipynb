{
 "cells": [
  {
   "cell_type": "markdown",
   "metadata": {},
   "source": [
    "# Human keyboard\n",
    "Remember to click on the bottom bar for the keyboard input to work.\\\n",
    "<img src=\"click.png\" alt=\"drawing\" width=\"500\"/>"
   ]
  },
  {
   "cell_type": "code",
   "execution_count": 4,
   "metadata": {},
   "outputs": [
    {
     "name": "stdout",
     "output_type": "stream",
     "text": [
      "-298.0\n"
     ]
    }
   ],
   "source": [
    "import gym\n",
    "import keyboard\n",
    "env = gym.make(\"MountainCar-v0\")\n",
    "env._max_episode_steps = 1000\n",
    "\n",
    "# Play\n",
    "state = env.reset()  # [position, velocity]\n",
    "done = False\n",
    "score = 0\n",
    "\n",
    "while not done:\n",
    "    # Read keyboard input\n",
    "    int_action = 1  # No push\n",
    "\n",
    "    if keyboard.is_pressed('right'):\n",
    "        int_action = 2  # right push\n",
    "    elif keyboard.is_pressed('left'):\n",
    "        int_action = 0  # left push\n",
    "\n",
    "    # Send input to game\n",
    "    state, reward, done, info = env.step(int_action)\n",
    "\n",
    "    score += reward\n",
    "\n",
    "    # Render new frame\n",
    "    env.render()\n",
    "print(score)\n",
    "env.close()"
   ]
  },
  {
   "cell_type": "markdown",
   "metadata": {},
   "source": [
    "# Close window\n",
    "if you force interupt the game, the window will still be open. Run this to close the window"
   ]
  },
  {
   "cell_type": "code",
   "execution_count": 3,
   "metadata": {},
   "outputs": [
    {
     "ename": "",
     "evalue": "",
     "output_type": "error",
     "traceback": [
      "\u001b[1;31mThe Kernel crashed while executing code in the the current cell or a previous cell. Please review the code in the cell(s) to identify a possible cause of the failure. Click <a href='https://aka.ms/vscodeJupyterKernelCrash'>here</a> for more info. View Jupyter <a href='command:jupyter.viewOutput'>log</a> for further details."
     ]
    }
   ],
   "source": [
    "env.close()"
   ]
  }
 ],
 "metadata": {
  "kernelspec": {
   "display_name": "Python 3.7.10 ('ai1')",
   "language": "python",
   "name": "python3"
  },
  "language_info": {
   "codemirror_mode": {
    "name": "ipython",
    "version": 3
   },
   "file_extension": ".py",
   "mimetype": "text/x-python",
   "name": "python",
   "nbconvert_exporter": "python",
   "pygments_lexer": "ipython3",
   "version": "3.7.10"
  },
  "orig_nbformat": 4,
  "vscode": {
   "interpreter": {
    "hash": "22adca1485c066d5be5e298dc527b36b8b91d253fc851e84e84a6bf1cc1998cc"
   }
  }
 },
 "nbformat": 4,
 "nbformat_minor": 2
}
