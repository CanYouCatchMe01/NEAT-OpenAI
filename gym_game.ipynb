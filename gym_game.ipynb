{
 "cells": [
  {
   "cell_type": "markdown",
   "metadata": {},
   "source": [
    "# Human keyboard\n",
    "Remember to click on the bottom bar for the keyboard input to work.\\\n",
    "<img src=\"click.png\" alt=\"drawing\" width=\"500\"/>"
   ]
  },
  {
   "cell_type": "code",
   "execution_count": 4,
   "metadata": {},
   "outputs": [
    {
     "name": "stdout",
     "output_type": "stream",
     "text": [
      "-298.0\n"
     ]
    }
   ],
   "source": [
    "import gym\n",
    "import keyboard\n",
    "env = gym.make(\"MountainCar-v0\")\n",
    "env._max_episode_steps = 1000\n",
    "\n",
    "# Play\n",
    "state = env.reset()  # [position, velocity]\n",
    "done = False\n",
    "score = 0\n",
    "\n",
    "while not done:\n",
    "    # Read keyboard input\n",
    "    int_action = 1  # No push\n",
    "\n",
    "    if keyboard.is_pressed('right'):\n",
    "        int_action = 2  # right push\n",
    "    elif keyboard.is_pressed('left'):\n",
    "        int_action = 0  # left push\n",
    "\n",
    "    # Send input to game\n",
    "    state, reward, done, info = env.step(int_action)\n",
    "\n",
    "    score += reward\n",
    "\n",
    "    # Render new frame\n",
    "    env.render()\n",
    "print(score)\n",
    "env.close()"
   ]
  },
  {
   "cell_type": "markdown",
   "metadata": {},
   "source": [
    "# Train AI"
   ]
  },
  {
   "cell_type": "code",
   "execution_count": null,
   "metadata": {},
   "outputs": [],
   "source": [
    "import gym\n",
    "import neat\n",
    "import os\n",
    "import math\n",
    "import pickle\n",
    "\n",
    "def convert_to_int_action(action):\n",
    "    int_action = 1  # No push\n",
    "\n",
    "    if action[0] > 0.5:\n",
    "        int_action = 2  # Right push\n",
    "    elif action[1] > 0.5:\n",
    "        int_action = 0  # Left push\n",
    "    return int_action\n",
    "\n",
    "def ai_train(genomes, config):\n",
    "    nets = []  # Neural networks/brain\n",
    "    ge = []  # Genes\n",
    "\n",
    "    # Setting up AI\n",
    "    for _, g in genomes:\n",
    "        net = neat.nn.FeedForwardNetwork.create(g, config)  # Getting values from txt\n",
    "        nets.append(net)  # Appending every Neural Network to array\n",
    "        g.fitness = 0\n",
    "        ge.append(g)  # Appending every gene to array.\n",
    "\n",
    "    # training every agent\n",
    "    for g, net in zip(ge, nets):\n",
    "        # Start game\n",
    "        state = env.reset()\n",
    "        done = False\n",
    "\n",
    "        # Variables for calculating fitness\n",
    "        high_vel = -math.inf\n",
    "        low_vel = math.inf\n",
    "        elapsed_steps = 0\n",
    "\n",
    "        while not done:\n",
    "            action = net.activate((state))  # send state to AI\n",
    "\n",
    "            int_action = convert_to_int_action(action)\n",
    "            state, reward, done, info = env.step(int_action)\n",
    "            g.fitness += reward\n",
    "            pos, vel = state\n",
    "            elapsed_steps += 1\n",
    "\n",
    "            if vel > high_vel:\n",
    "                high_vel = vel\n",
    "            if vel < low_vel:\n",
    "                low_vel = vel\n",
    "\n",
    "# Environment setup\n",
    "env = gym.make(\"MountainCar-v0\")\n",
    "env._max_episode_steps = 1000\n",
    "\n",
    "# Getting file with values\n",
    "config_path = os.path.abspath(\"config-feedforward.txt\")\n",
    "config = neat.Config(neat.DefaultGenome, neat.DefaultReproduction, neat.DefaultSpeciesSet, neat.DefaultStagnation, config_path)\n",
    "p = neat.Population(config)\n",
    "\n",
    "p.add_reporter(neat.StdOutReporter(True))  # printing stats\n",
    "\n",
    "num_training_generations = 10\n",
    "winner = p.run(ai_train, num_training_generations)\n",
    "print(winner)\n",
    "\n",
    "# Save best gene in Pickle file\n",
    "file = open('winner_neat', 'wb')\n",
    "pickle.dump(winner, file)\n",
    "file.close()"
   ]
  },
  {
   "cell_type": "markdown",
   "metadata": {},
   "source": [
    "# Close window\n",
    "if you force interupt the game, the window will still be open. Run this to close the window"
   ]
  },
  {
   "cell_type": "code",
   "execution_count": 3,
   "metadata": {},
   "outputs": [
    {
     "ename": "",
     "evalue": "",
     "output_type": "error",
     "traceback": [
      "\u001b[1;31mThe Kernel crashed while executing code in the the current cell or a previous cell. Please review the code in the cell(s) to identify a possible cause of the failure. Click <a href='https://aka.ms/vscodeJupyterKernelCrash'>here</a> for more info. View Jupyter <a href='command:jupyter.viewOutput'>log</a> for further details."
     ]
    }
   ],
   "source": [
    "env.close()"
   ]
  }
 ],
 "metadata": {
  "kernelspec": {
   "display_name": "Python 3.7.10 ('ai1')",
   "language": "python",
   "name": "python3"
  },
  "language_info": {
   "codemirror_mode": {
    "name": "ipython",
    "version": 3
   },
   "file_extension": ".py",
   "mimetype": "text/x-python",
   "name": "python",
   "nbconvert_exporter": "python",
   "pygments_lexer": "ipython3",
   "version": "3.7.10"
  },
  "orig_nbformat": 4,
  "vscode": {
   "interpreter": {
    "hash": "22adca1485c066d5be5e298dc527b36b8b91d253fc851e84e84a6bf1cc1998cc"
   }
  }
 },
 "nbformat": 4,
 "nbformat_minor": 2
}
